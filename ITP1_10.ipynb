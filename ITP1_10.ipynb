{
 "cells": [
  {
   "cell_type": "code",
   "execution_count": 1,
   "metadata": {},
   "outputs": [
    {
     "name": "stdout",
     "output_type": "stream",
     "text": [
      "0 0 1 1\n",
      "1.4142135623730951\n"
     ]
    }
   ],
   "source": [
    "#A\n",
    "import math;\n",
    "\n",
    "x1,y1,x2,y2=map(float,input().split());\n",
    "r=(x2-x1)**2+(y2-y1)**2;\n",
    "\n",
    "print(math.sqrt(r));"
   ]
  },
  {
   "cell_type": "code",
   "execution_count": 2,
   "metadata": {},
   "outputs": [
    {
     "name": "stdout",
     "output_type": "stream",
     "text": [
      "4 3 90\n",
      "6.0\n",
      "12.0\n",
      "3.0\n"
     ]
    }
   ],
   "source": [
    "#B\n",
    "import math;\n",
    "\n",
    "a,b,C=map(float,input().split());\n",
    "\n",
    "S=a*b*math.sin(C*math.pi/180)*0.5;\n",
    "\n",
    "c2=a**2+b**2-2*a*b*math.cos(C*math.pi/180);\n",
    "c=math.sqrt(c2);\n",
    "L=a+b+c;\n",
    "\n",
    "h=(S*2)/a;\n",
    "\n",
    "print(S);\n",
    "print(L);\n",
    "print(h);"
   ]
  },
  {
   "cell_type": "code",
   "execution_count": 3,
   "metadata": {},
   "outputs": [
    {
     "name": "stdout",
     "output_type": "stream",
     "text": [
      "5\n",
      "70 80 100 90 20\n",
      "27.85677655436824\n",
      "3\n",
      "80 80 80\n",
      "0.0\n",
      "0\n"
     ]
    }
   ],
   "source": [
    "#C\n",
    "import math;\n",
    "\n",
    "while True:\n",
    "    x2=0;\n",
    "    x=0;\n",
    "    \n",
    "    n=int(input());\n",
    "    if n == 0:\n",
    "        break;\n",
    "\n",
    "    s=list(map(float,input().split()));\n",
    "    m=sum(s)/n;\n",
    "\n",
    "    for i in s:\n",
    "        x2+=(i-m)**2;\n",
    "        \n",
    "    x=math.sqrt(x2/n);\n",
    "\n",
    "    \n",
    "    print(x);"
   ]
  },
  {
   "cell_type": "code",
   "execution_count": 11,
   "metadata": {},
   "outputs": [
    {
     "name": "stdout",
     "output_type": "stream",
     "text": [
      "3\n",
      "1 2 3\n",
      "2 0 4\n",
      "4.0\n",
      "2.449489742783178\n",
      "2.154434690031884\n",
      "2.0\n"
     ]
    }
   ],
   "source": [
    "#D\n",
    "import math;\n",
    "\n",
    "n=int(input());\n",
    "D1,D2,D2_2,D3,D3_2,Di=0,0,0,0,0,0;\n",
    "L=[];\n",
    "    \n",
    "x=list(map(float,input().split()));\n",
    "y=list(map(float,input().split()));\n",
    "    \n",
    "for i in range(n):\n",
    "    D1+=abs(x[i]-y[i]);\n",
    "\n",
    "for i in range(n):\n",
    "    D2_2+=abs(x[i]-y[i])**2;\n",
    "    D2=math.sqrt(D2_2);\n",
    "    \n",
    "for i in range(n):\n",
    "    D3_2+=abs(x[i]-y[i])**3;\n",
    "    D3=D3_2**(1/3);\n",
    "    \n",
    "for i in range(n):\n",
    "    L.append(abs(x[i]-y[i]));\n",
    "    Di=max(L);\n",
    "\n",
    "print(D1);\n",
    "print(D2);\n",
    "print(D3);\n",
    "print(Di);"
   ]
  }
 ],
 "metadata": {
  "kernelspec": {
   "display_name": "Python 3",
   "language": "python",
   "name": "python3"
  },
  "language_info": {
   "codemirror_mode": {
    "name": "ipython",
    "version": 3
   },
   "file_extension": ".py",
   "mimetype": "text/x-python",
   "name": "python",
   "nbconvert_exporter": "python",
   "pygments_lexer": "ipython3",
   "version": "3.6.5"
  }
 },
 "nbformat": 4,
 "nbformat_minor": 2
}
