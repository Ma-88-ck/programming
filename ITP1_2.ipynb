{
 "cells": [
  {
   "cell_type": "code",
   "execution_count": 13,
   "metadata": {},
   "outputs": [
    {
     "name": "stdout",
     "output_type": "stream",
     "text": [
      "3 5\n",
      "a < b\n"
     ]
    }
   ],
   "source": [
    "#A\n",
    "a,b=map(int,input().split());\n",
    "if a==b:\n",
    "    print(\"a == b\");\n",
    "elif a<b:\n",
    "    print(\"a < b\");\n",
    "elif a>b:\n",
    "    print(\"a > b\");"
   ]
  },
  {
   "cell_type": "code",
   "execution_count": 15,
   "metadata": {},
   "outputs": [
    {
     "name": "stdout",
     "output_type": "stream",
     "text": [
      "1 2 4\n",
      "Yes\n"
     ]
    }
   ],
   "source": [
    "#B\n",
    "a,b,c=map(int,input().split());\n",
    "if a<b:\n",
    "    if b<c:\n",
    "        print(\"Yes\");\n",
    "    else:\n",
    "        print(\"No\");\n",
    "else:\n",
    "    print(\"No\");"
   ]
  },
  {
   "cell_type": "code",
   "execution_count": 16,
   "metadata": {
    "scrolled": true
   },
   "outputs": [
    {
     "name": "stdout",
     "output_type": "stream",
     "text": [
      "1 5 3\n",
      "1 3 5\n"
     ]
    }
   ],
   "source": [
    "#C\n",
    "a,b,c=map(int,input().split());\n",
    "A,B,C=map(str,[a,b,c])\n",
    "if a<b:\n",
    "    if b<c:\n",
    "        print(A+\" \"+B+\" \"+C);\n",
    "    elif b>=c:\n",
    "        if a<c:\n",
    "            print(A+\" \"+C+\" \"+B);\n",
    "        elif a>=c:\n",
    "            print(C+\" \"+A+\" \"+B);\n",
    "elif b<a:\n",
    "    if a<c:\n",
    "        print(B+\" \"+A+\" \"+C);\n",
    "    elif a>=c:\n",
    "        if b<c:\n",
    "            print(B+\" \"+C+\" \"+A);\n",
    "        elif b>=c:\n",
    "            print(C+\" \"+B+\" \"+A);"
   ]
  },
  {
   "cell_type": "code",
   "execution_count": 18,
   "metadata": {},
   "outputs": [
    {
     "name": "stdout",
     "output_type": "stream",
     "text": [
      "5 4 2 4 2\n",
      "No\n"
     ]
    }
   ],
   "source": [
    "#D\n",
    "W,H,x,y,r=map(int,input().split());\n",
    "if x-r>=0 and y-r>=0:\n",
    "    if x+r<=W and y+r<=H:\n",
    "        print(\"Yes\");\n",
    "    else:\n",
    "        print(\"No\");\n",
    "else:\n",
    "    print(\"No\");"
   ]
  }
 ],
 "metadata": {
  "kernelspec": {
   "display_name": "Python 3",
   "language": "python",
   "name": "python3"
  },
  "language_info": {
   "codemirror_mode": {
    "name": "ipython",
    "version": 3
   },
   "file_extension": ".py",
   "mimetype": "text/x-python",
   "name": "python",
   "nbconvert_exporter": "python",
   "pygments_lexer": "ipython3",
   "version": "3.6.5"
  }
 },
 "nbformat": 4,
 "nbformat_minor": 2
}
