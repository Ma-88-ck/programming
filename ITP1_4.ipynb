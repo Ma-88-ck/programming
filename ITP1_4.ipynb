{
 "cells": [
  {
   "cell_type": "code",
   "execution_count": 13,
   "metadata": {},
   "outputs": [
    {
     "name": "stdout",
     "output_type": "stream",
     "text": [
      "3 2\n",
      "1 1 1.50000\n"
     ]
    }
   ],
   "source": [
    "#A\n",
    "a,b=map(int,input().split());\n",
    "if b!=0:\n",
    "    d=int(a//b);\n",
    "    r=int(a%b);\n",
    "    f=float(a/b);\n",
    "    print(str(d)+\" \"+str(r)+\" \"+str('{:.5f}'.format(f)));\n",
    "else:\n",
    "    print(\"No answer\");"
   ]
  },
  {
   "cell_type": "code",
   "execution_count": 21,
   "metadata": {},
   "outputs": [
    {
     "name": "stdout",
     "output_type": "stream",
     "text": [
      "3\n",
      "28.274334 18.849556\n"
     ]
    }
   ],
   "source": [
    "#B\n",
    "import math;\n",
    "pi=math.pi\n",
    "r=float(input());\n",
    "S=r*r*pi;\n",
    "D=r*2*pi;\n",
    "print(str('{:.6f}'.format(S)+\" \"+str('{:.6f}'.format(D))));"
   ]
  },
  {
   "cell_type": "code",
   "execution_count": 1,
   "metadata": {},
   "outputs": [
    {
     "name": "stdout",
     "output_type": "stream",
     "text": [
      "1 - 2\n",
      "-1\n",
      "3 / 4\n",
      "0\n",
      "0 ? 0\n"
     ]
    }
   ],
   "source": [
    "#C\n",
    "while True:\n",
    "    a,b,c=input().split();\n",
    "    a=int(a);\n",
    "    b=str(b);\n",
    "    c=int(c);\n",
    "    if b==\"+\":\n",
    "        x=a+c;\n",
    "        print(x);\n",
    "    elif b==\"-\":\n",
    "        x=a-c;\n",
    "        print(x);\n",
    "    elif b==\"*\":\n",
    "        x=a*c;\n",
    "        print(x);\n",
    "    elif b==\"/\":\n",
    "        x=a//c;\n",
    "        print(x);\n",
    "    elif b==\"?\":\n",
    "        break;"
   ]
  },
  {
   "cell_type": "code",
   "execution_count": 24,
   "metadata": {},
   "outputs": [
    {
     "name": "stdout",
     "output_type": "stream",
     "text": [
      "5\n",
      "10 1 5 4 17\n",
      "1 17 37\n"
     ]
    }
   ],
   "source": [
    "#D\n",
    "x=int(input());\n",
    "L=list(map(int,input().split()));\n",
    "a=0;\n",
    "i=0;\n",
    "L.sort();\n",
    "\n",
    "while i!=x:\n",
    "    a=a+L[i];\n",
    "    i=i+1;\n",
    "    \n",
    "print(str(L[0])+\" \"+str(L[x-1])+\" \"+str(a));"
   ]
  },
  {
   "cell_type": "code",
   "execution_count": null,
   "metadata": {},
   "outputs": [],
   "source": []
  }
 ],
 "metadata": {
  "kernelspec": {
   "display_name": "Python 3",
   "language": "python",
   "name": "python3"
  },
  "language_info": {
   "codemirror_mode": {
    "name": "ipython",
    "version": 3
   },
   "file_extension": ".py",
   "mimetype": "text/x-python",
   "name": "python",
   "nbconvert_exporter": "python",
   "pygments_lexer": "ipython3",
   "version": "3.6.5"
  }
 },
 "nbformat": 4,
 "nbformat_minor": 2
}
