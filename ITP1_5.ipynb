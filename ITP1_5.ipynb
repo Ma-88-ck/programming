{
 "cells": [
  {
   "cell_type": "code",
   "execution_count": 3,
   "metadata": {},
   "outputs": [
    {
     "name": "stdout",
     "output_type": "stream",
     "text": [
      "2 4\n",
      "####\n",
      "####\n",
      "\n",
      "0 0\n"
     ]
    }
   ],
   "source": [
    "#A\n",
    "while True:\n",
    "    a,b=map(int,input().split());\n",
    "    \n",
    "    if a==0 and b==0:\n",
    "        break;\n",
    "        \n",
    "    for j in range(a):\n",
    "        for i in range(b):\n",
    "            print(\"#\", end=\"\")\n",
    "        \n",
    "        print(\"\")\n",
    "        \n",
    "    print(\"\")\n",
    "    \n"
   ]
  },
  {
   "cell_type": "code",
   "execution_count": 14,
   "metadata": {},
   "outputs": [
    {
     "name": "stdout",
     "output_type": "stream",
     "text": [
      "3 2\n",
      "##\n",
      "##\n",
      "##\n",
      " \n",
      "3 3\n",
      "###\n",
      "#.#\n",
      "###\n",
      " \n",
      "0 0\n",
      " \n"
     ]
    }
   ],
   "source": [
    "## B\n",
    "while True:\n",
    "    a,b=map(int,input().split());\n",
    "    i=0;\n",
    "    \n",
    "    if a==0 and b==0:\n",
    "        break;\n",
    "        \n",
    "    for i in range(a):\n",
    "        if i==0 or i==a-1:\n",
    "            print(\"#\"*b);\n",
    "        else:\n",
    "            x=b-2\n",
    "            print(\"#\"+\".\"*x+\"#\")\n",
    "        \n",
    "    print(\"\")\n",
    "    \n"
   ]
  },
  {
   "cell_type": "code",
   "execution_count": 4,
   "metadata": {},
   "outputs": [
    {
     "name": "stdout",
     "output_type": "stream",
     "text": [
      "3 5\n",
      "#.#.#\n",
      ".#.#.\n",
      "#.#.#\n",
      "\n",
      "0 0\n"
     ]
    }
   ],
   "source": [
    "#C\n",
    "while True:\n",
    "    a,b=map(int,input().split());\n",
    "    i=0;\n",
    "    j=0;\n",
    "    e=b/2\n",
    "    \n",
    "    if a==0 and b==0:\n",
    "        break;\n",
    "    \n",
    "    for i in range(a):\n",
    "        if i%2==0:\n",
    "            for j in range(b):\n",
    "                if j%2==0:\n",
    "                    print(\"#\",end='');\n",
    "                else:\n",
    "                    print(\".\",end='');\n",
    "        else :\n",
    "            for j in range(b):\n",
    "                if j%2==0:\n",
    "                    print(\".\",end='');\n",
    "                else:\n",
    "                    print(\"#\",end='');            \n",
    "        print(\"\");\n",
    "        \n",
    "    print(\"\")\n",
    "    "
   ]
  },
  {
   "cell_type": "code",
   "execution_count": 18,
   "metadata": {},
   "outputs": [
    {
     "name": "stdout",
     "output_type": "stream",
     "text": [
      "30\n",
      " 3 6 9 12 13 15 18 21 23 24 27 30\n"
     ]
    }
   ],
   "source": [
    "n=int(input())\n",
    "L=[]\n",
    "i=0;\n",
    "\n",
    "while True:\n",
    "    \n",
    "    i=i+1;\n",
    "    \n",
    "    if i>n:\n",
    "        break;\n",
    "        \n",
    "    elif i%3==0:\n",
    "        L.append(i);\n",
    "        \n",
    "    else:\n",
    "        x=i;\n",
    "        while x:\n",
    "            if x%10==3:\n",
    "                L.append(i);\n",
    "                break;\n",
    "            else:\n",
    "                x=x//10;\n",
    "                \n",
    "print(\"\",*L);"
   ]
  },
  {
   "cell_type": "code",
   "execution_count": null,
   "metadata": {},
   "outputs": [],
   "source": []
  }
 ],
 "metadata": {
  "kernelspec": {
   "display_name": "Python 3",
   "language": "python",
   "name": "python3"
  },
  "language_info": {
   "codemirror_mode": {
    "name": "ipython",
    "version": 3
   },
   "file_extension": ".py",
   "mimetype": "text/x-python",
   "name": "python",
   "nbconvert_exporter": "python",
   "pygments_lexer": "ipython3",
   "version": "3.6.5"
  }
 },
 "nbformat": 4,
 "nbformat_minor": 2
}
