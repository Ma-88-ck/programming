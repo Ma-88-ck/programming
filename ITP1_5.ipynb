{
 "cells": [
  {
   "cell_type": "code",
   "execution_count": 18,
   "metadata": {},
   "outputs": [
    {
     "name": "stdout",
     "output_type": "stream",
     "text": [
      "3 2\n",
      "##\n",
      "##\n",
      "##\n",
      " \n",
      "4 3\n",
      "###\n",
      "###\n",
      "###\n",
      "###\n",
      " \n",
      "0 0\n",
      " \n"
     ]
    }
   ],
   "source": [
    "#A\n",
    "while True:\n",
    "    a,b=map(int,input().split());\n",
    "    for j in range(a):\n",
    "        for i in range(b):\n",
    "            print(\"#\", end=\"\")\n",
    "        \n",
    "        print(\"\")\n",
    "        \n",
    "    print(\" \")\n",
    "    \n",
    "    if a==0 and b==0:\n",
    "        break;"
   ]
  },
  {
   "cell_type": "code",
   "execution_count": 14,
   "metadata": {},
   "outputs": [
    {
     "name": "stdout",
     "output_type": "stream",
     "text": [
      "3 2\n",
      "##\n",
      "##\n",
      "##\n",
      " \n",
      "3 3\n",
      "###\n",
      "#.#\n",
      "###\n",
      " \n",
      "0 0\n",
      " \n"
     ]
    }
   ],
   "source": [
    "## B\n",
    "while True:\n",
    "    a,b=map(int,input().split());\n",
    "    i=0;\n",
    "    for i in range(a):\n",
    "        if i==0 or i==a-1:\n",
    "            print(\"#\"*b);\n",
    "        else:\n",
    "            x=b-2\n",
    "            print(\"#\"+\".\"*x+\"#\")\n",
    "        \n",
    "    print(\" \")\n",
    "    \n",
    "    if a==0 and b==0:\n",
    "        break;"
   ]
  },
  {
   "cell_type": "code",
   "execution_count": 2,
   "metadata": {},
   "outputs": [
    {
     "name": "stdout",
     "output_type": "stream",
     "text": [
      "2 5\n",
      "#.#.#\n",
      ".#.#.\n",
      "\n",
      "3 7\n",
      "#.#.#.#\n",
      ".#.#.#.\n",
      "#.#.#.#\n",
      "\n",
      "0 0\n",
      "\n"
     ]
    }
   ],
   "source": [
    "#C\n",
    "while True:\n",
    "    a,b=map(int,input().split());\n",
    "    i=0;\n",
    "    j=0;\n",
    "    e=b/2\n",
    "    for i in range(a):\n",
    "        if i%2==0:\n",
    "            for j in range(b):\n",
    "                if j%2==0:\n",
    "                    print(\"#\",end='');\n",
    "                else:\n",
    "                    print(\".\",end='');\n",
    "        else :\n",
    "            for j in range(b):\n",
    "                if j%2==0:\n",
    "                    print(\".\",end='');\n",
    "                else:\n",
    "                    print(\"#\",end='');            \n",
    "        print(\"\");\n",
    "        \n",
    "    print(\"\")\n",
    "    \n",
    "    if a==0 and b==0:\n",
    "        break;"
   ]
  },
  {
   "cell_type": "code",
   "execution_count": 8,
   "metadata": {},
   "outputs": [
    {
     "name": "stdout",
     "output_type": "stream",
     "text": [
      "30\n",
      " 3 6 9 12 13 15 18 21 23 24 27 30 "
     ]
    }
   ],
   "source": [
    "#D\n",
    "n=int(input());\n",
    "i=1;\n",
    "print(\"\",end=\" \")\n",
    "while True:\n",
    "    x=i;\n",
    "    if x%3==0:\n",
    "        print(x,end=\" \");\n",
    "        \n",
    "    elif x%10==3:\n",
    "        print(x,end=\" \");\n",
    "        \n",
    "    i=i+1;\n",
    "    \n",
    "    if i>n:\n",
    "        break;"
   ]
  }
 ],
 "metadata": {
  "kernelspec": {
   "display_name": "Python 3",
   "language": "python",
   "name": "python3"
  },
  "language_info": {
   "codemirror_mode": {
    "name": "ipython",
    "version": 3
   },
   "file_extension": ".py",
   "mimetype": "text/x-python",
   "name": "python",
   "nbconvert_exporter": "python",
   "pygments_lexer": "ipython3",
   "version": "3.6.5"
  }
 },
 "nbformat": 4,
 "nbformat_minor": 2
}
