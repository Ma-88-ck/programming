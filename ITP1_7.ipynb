{
 "cells": [
  {
   "cell_type": "code",
   "execution_count": 2,
   "metadata": {},
   "outputs": [
    {
     "name": "stdout",
     "output_type": "stream",
     "text": [
      "40 42 -1\n",
      "A\n",
      "20 30 -1\n",
      "C\n",
      "0 2 -1\n",
      "F\n",
      "-1 -1 -1\n"
     ]
    }
   ],
   "source": [
    "#A\n",
    "while True:\n",
    "    \n",
    "    m,f,l=map(int,input().split());\n",
    "    \n",
    "    if m==-1 and f==-1 and l==-1:\n",
    "        break;\n",
    "        \n",
    "    elif m==-1 or f==-1:\n",
    "        print(\"F\");\n",
    "    elif m+f<30:\n",
    "        print(\"F\");\n",
    "    elif m+f>=80:\n",
    "        print(\"A\");\n",
    "    elif m+f>=65:\n",
    "        print(\"B\");\n",
    "    elif m+f>=50:\n",
    "        print(\"C\");\n",
    "    elif m+f>=30 and l>=50:\n",
    "        print(\"C\");\n",
    "    else:\n",
    "        print(\"D\");\n",
    "    \n",
    "    "
   ]
  },
  {
   "cell_type": "code",
   "execution_count": 5,
   "metadata": {},
   "outputs": [
    {
     "name": "stdout",
     "output_type": "stream",
     "text": [
      "5 9\n",
      "2\n",
      "1 1\n",
      "0\n",
      "0 0\n"
     ]
    }
   ],
   "source": [
    "#B\n",
    "while True:\n",
    "    \n",
    "    n,x=map(int,input().split());\n",
    "    \n",
    "    if n==0 and x==0:\n",
    "        break;\n",
    "        \n",
    "    count=0;\n",
    "    \n",
    "    for i in range(1,n+1):\n",
    "        for j in range(i+1,n+1):\n",
    "            for k in range(j+1,n+1):\n",
    "                if i+j+k==x and i<j<k:\n",
    "                    count+=1;\n",
    "                    \n",
    "    print(count);\n",
    "    "
   ]
  },
  {
   "cell_type": "code",
   "execution_count": 34,
   "metadata": {},
   "outputs": [
    {
     "name": "stdout",
     "output_type": "stream",
     "text": [
      "4 5\n",
      "1 1 3 4 5\n",
      "2 2 2 4 5\n",
      "3 3 0 1 1\n",
      "2 3 4 4 6\n",
      "1 1 3 4 5 14\n",
      "2 2 2 4 5 15\n",
      "3 3 0 1 1 8\n",
      "2 3 4 4 6 19\n",
      "8 9 9 13 17 56\n"
     ]
    }
   ],
   "source": [
    "#C\n",
    "r,c =map(int,input().split());\n",
    "L=[list(map(int,input().split())) for i in range(r)];\n",
    "\n",
    "for j in range(r):\n",
    "    L[j].append(sum(L[j]));\n",
    "\n",
    "L.append([sum(k) for k in zip(*L)]);\n",
    "\n",
    "for l in L:\n",
    "    print(\" \".join(str(m) for m in l));"
   ]
  },
  {
   "cell_type": "code",
   "execution_count": 37,
   "metadata": {},
   "outputs": [
    {
     "name": "stdout",
     "output_type": "stream",
     "text": [
      "3 2 3\n",
      "1 2\n",
      "0 3\n",
      "4 5\n",
      "1 2 1\n",
      "0 3 2\n",
      "1 8 5\n",
      "0 9 6\n",
      "4 23 14\n"
     ]
    }
   ],
   "source": [
    "#D\n",
    "n,m,l =map(int,input().split());\n",
    "A=[list(map(int,input().split())) for i in range(n)];\n",
    "B=[list(map(int,input().split())) for j in range(m)];\n",
    "\n",
    "B_transposed=list(map(list,zip(*B)))\n",
    "\n",
    "for a in A:\n",
    "    C = []\n",
    "    for b in B_transposed:\n",
    "        C.append(sum(x*y for x,y in zip(a,b)))\n",
    "    print(*C)"
   ]
  },
  {
   "cell_type": "code",
   "execution_count": null,
   "metadata": {},
   "outputs": [],
   "source": []
  }
 ],
 "metadata": {
  "kernelspec": {
   "display_name": "Python 3",
   "language": "python",
   "name": "python3"
  },
  "language_info": {
   "codemirror_mode": {
    "name": "ipython",
    "version": 3
   },
   "file_extension": ".py",
   "mimetype": "text/x-python",
   "name": "python",
   "nbconvert_exporter": "python",
   "pygments_lexer": "ipython3",
   "version": "3.6.5"
  }
 },
 "nbformat": 4,
 "nbformat_minor": 2
}
