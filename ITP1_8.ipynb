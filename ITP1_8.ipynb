{
 "cells": [
  {
   "cell_type": "code",
   "execution_count": 6,
   "metadata": {},
   "outputs": [
    {
     "name": "stdout",
     "output_type": "stream",
     "text": [
      "kjfdLKJFLJ\n",
      "KJFDlkjflj\n"
     ]
    }
   ],
   "source": [
    "#A\n",
    "x=str(input());\n",
    "print(x.swapcase());"
   ]
  },
  {
   "cell_type": "code",
   "execution_count": 1,
   "metadata": {},
   "outputs": [
    {
     "name": "stdout",
     "output_type": "stream",
     "text": [
      "123\n",
      "6\n",
      "10000\n",
      "1\n",
      "0\n"
     ]
    }
   ],
   "source": [
    "#B\n",
    "while True:\n",
    "    x=str(input());\n",
    "    if x==\"0\":\n",
    "        break;\n",
    "    L=map(int,list(x));\n",
    "    y=sum(L);\n",
    "    \n",
    "    print(y);"
   ]
  },
  {
   "cell_type": "code",
   "execution_count": 3,
   "metadata": {},
   "outputs": [
    {
     "name": "stdout",
     "output_type": "stream",
     "text": [
      "This is a pen\n",
      "a : 1\n",
      "b : 0\n",
      "c : 0\n",
      "d : 0\n",
      "e : 1\n",
      "f : 0\n",
      "g : 0\n",
      "h : 1\n",
      "i : 2\n",
      "j : 0\n",
      "k : 0\n",
      "l : 0\n",
      "m : 0\n",
      "n : 1\n",
      "o : 0\n",
      "p : 1\n",
      "q : 0\n",
      "r : 0\n",
      "s : 2\n",
      "t : 1\n",
      "u : 0\n",
      "v : 0\n",
      "w : 0\n",
      "x : 0\n",
      "y : 0\n",
      "z : 0\n"
     ]
    }
   ],
   "source": [
    "#C\n",
    "\n",
    "st=\"abcdefghijklmnopqrstuvwxyz\";\n",
    "x=\"\";\n",
    "\n",
    "while True:\n",
    "    try:\n",
    "        x+=input().lower();\n",
    "    except EOFError:\n",
    "        break;\n",
    "\n",
    "for i in st:\n",
    "        print(str(i)+\" : \"+str(x.count(i)));"
   ]
  },
  {
   "cell_type": "code",
   "execution_count": 9,
   "metadata": {},
   "outputs": [
    {
     "name": "stdout",
     "output_type": "stream",
     "text": [
      "vanceknowledgetoad\n",
      "advance\n",
      "Yes\n"
     ]
    }
   ],
   "source": [
    "#D\n",
    "s=input();\n",
    "p=input();\n",
    "\n",
    "S=s+s;\n",
    "\n",
    "if p in S:\n",
    "    print(\"Yes\");\n",
    "else:\n",
    "    print(\"No\");"
   ]
  },
  {
   "cell_type": "code",
   "execution_count": null,
   "metadata": {},
   "outputs": [],
   "source": []
  }
 ],
 "metadata": {
  "kernelspec": {
   "display_name": "Python 3",
   "language": "python",
   "name": "python3"
  },
  "language_info": {
   "codemirror_mode": {
    "name": "ipython",
    "version": 3
   },
   "file_extension": ".py",
   "mimetype": "text/x-python",
   "name": "python",
   "nbconvert_exporter": "python",
   "pygments_lexer": "ipython3",
   "version": "3.6.5"
  }
 },
 "nbformat": 4,
 "nbformat_minor": 2
}
