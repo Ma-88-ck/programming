{
 "cells": [
  {
   "cell_type": "code",
   "execution_count": 3,
   "metadata": {},
   "outputs": [
    {
     "name": "stdout",
     "output_type": "stream",
     "text": [
      "computer\n",
      "Nurtures computer scientists and highly-skilled computer engineers who will create and exploit \"knowledge\" for the new era. Provides an outstanding computer environment.\n",
      "END_OF_TEXT\n",
      "3\n"
     ]
    }
   ],
   "source": [
    "#A\n",
    "x=0;\n",
    "w=input().lower();\n",
    "\n",
    "while True:\n",
    "    t=input();\n",
    "    if t==\"END_OF_TEXT\":\n",
    "        break;\n",
    "    x+=t.lower().split().count(w);\n",
    "\n",
    "print(x);"
   ]
  },
  {
   "cell_type": "code",
   "execution_count": 2,
   "metadata": {},
   "outputs": [
    {
     "name": "stdout",
     "output_type": "stream",
     "text": [
      "aabc\n",
      "3\n",
      "1\n",
      "2\n",
      "1\n",
      "aabc\n",
      "vwxyz\n",
      "2\n",
      "3\n",
      "4\n",
      "xyzvw\n",
      "-\n"
     ]
    }
   ],
   "source": [
    "#B\n",
    "while True:\n",
    "    x=input();\n",
    "    if x=='-':\n",
    "        break;\n",
    "        \n",
    "    n=int(input());\n",
    "\n",
    "    for i in range(n):\n",
    "        s=int(input());\n",
    "        x=x[s:]+x[:s];\n",
    "\n",
    "    print(x);"
   ]
  },
  {
   "cell_type": "code",
   "execution_count": 8,
   "metadata": {},
   "outputs": [
    {
     "name": "stdout",
     "output_type": "stream",
     "text": [
      "3\n",
      "cat dog\n",
      "fish fish\n",
      "lion tiger\n",
      "1 7\n"
     ]
    }
   ],
   "source": [
    "#C\n",
    "n=int(input());\n",
    "tp,hp=0,0;\n",
    "\n",
    "for i in range(n):\n",
    "    a,b=map(str,input().split());\n",
    "    if a>b:\n",
    "        tp=tp+3;\n",
    "    elif a<b:\n",
    "        hp=hp+3;\n",
    "    elif a==b:\n",
    "        tp=tp+1;\n",
    "        hp=hp+1;\n",
    "        \n",
    "print(str(tp)+\" \"+str(hp));"
   ]
  },
  {
   "cell_type": "code",
   "execution_count": 13,
   "metadata": {},
   "outputs": [
    {
     "name": "stdout",
     "output_type": "stream",
     "text": [
      "abcde\n",
      "3\n",
      "replace 1 3 xyz\n",
      "reverse 0 2\n",
      "print 1 4\n",
      "xaze\n"
     ]
    }
   ],
   "source": [
    "#D\n",
    "Str=str(input());\n",
    "n=int(input());\n",
    "\n",
    "for i in range(n):\n",
    "    List=input().split();\n",
    "    x=List[0];\n",
    "    a=int(List[1]);\n",
    "    b=int(List[2]);\n",
    "    \n",
    "    if x==\"print\":\n",
    "        print(Str[a:b+1]);\n",
    "    elif x==\"reverse\":\n",
    "        Str=Str[:a]+Str[a:b+1][::-1]+Str[b+1:];\n",
    "    elif x==\"replace\":\n",
    "        Str=Str[:a]+List[3]+Str[b+1:];"
   ]
  },
  {
   "cell_type": "code",
   "execution_count": null,
   "metadata": {},
   "outputs": [],
   "source": []
  }
 ],
 "metadata": {
  "kernelspec": {
   "display_name": "Python 3",
   "language": "python",
   "name": "python3"
  },
  "language_info": {
   "codemirror_mode": {
    "name": "ipython",
    "version": 3
   },
   "file_extension": ".py",
   "mimetype": "text/x-python",
   "name": "python",
   "nbconvert_exporter": "python",
   "pygments_lexer": "ipython3",
   "version": "3.6.5"
  }
 },
 "nbformat": 4,
 "nbformat_minor": 2
}
